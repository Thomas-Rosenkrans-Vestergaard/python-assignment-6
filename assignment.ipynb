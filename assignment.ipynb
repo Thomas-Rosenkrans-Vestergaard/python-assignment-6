{
 "cells": [
  {
   "cell_type": "markdown",
   "metadata": {},
   "source": [
    "# Assignment 6"
   ]
  },
  {
   "cell_type": "markdown",
   "metadata": {},
   "source": [
    "## Part 1: Preparing data"
   ]
  },
  {
   "cell_type": "markdown",
   "metadata": {},
   "source": [
    "(1) Download the data\n",
    "\n",
    "(2) Unpack the data"
   ]
  },
  {
   "cell_type": "code",
   "execution_count": 1,
   "metadata": {},
   "outputs": [],
   "source": [
    "import requests\n",
    "import gzip\n",
    "import os\n",
    "import re\n",
    "import numpy as np\n",
    "\n",
    "def download(url, to):\n",
    "    response = requests.get(url)\n",
    "    directory = ''.join(re.split('[/\\\\\\]', to)[:-1])\n",
    "    os.makedirs(directory, exist_ok=True)\n",
    "    with open(to, \"wb\") as f:\n",
    "        f.write(response.content)\n",
    "        return to\n",
    "\n",
    "def gz_unzip(file, out=None):\n",
    "    if out is None:\n",
    "        out = file.rstrip('.gz')\n",
    "    \n",
    "    with gzip.open(file, 'rb') as f_in:\n",
    "        with open(out, 'wb') as f_out:\n",
    "            f_out.write(f_in.read())\n",
    "            return out"
   ]
  },
  {
   "cell_type": "code",
   "execution_count": 2,
   "metadata": {
    "scrolled": true
   },
   "outputs": [
    {
     "name": "stdout",
     "output_type": "stream",
     "text": [
      "temp/facebook.txt.gz\n",
      "temp/facebook.txt\n"
     ]
    }
   ],
   "source": [
    "zip_file = download('https://snap.stanford.edu/data/facebook_combined.txt.gz', to='temp/facebook.txt.gz')\n",
    "print(zip_file)\n",
    "txt_file = gz_unzip(zip_file)\n",
    "print(txt_file)"
   ]
  },
  {
   "cell_type": "markdown",
   "metadata": {},
   "source": [
    "(3) Import the data as an undirected graph in `networkx`"
   ]
  },
  {
   "cell_type": "code",
   "execution_count": 3,
   "metadata": {},
   "outputs": [
    {
     "data": {
      "text/plain": [
       "'Name: \\nType: Graph\\nNumber of nodes: 4039\\nNumber of edges: 88234\\nAverage degree:  43.6910'"
      ]
     },
     "execution_count": 3,
     "metadata": {},
     "output_type": "execute_result"
    }
   ],
   "source": [
    "import networkx as nx\n",
    "\n",
    "graph = nx.read_edgelist(txt_file, nodetype=int)\n",
    "nx.info(graph)"
   ]
  },
  {
   "cell_type": "markdown",
   "metadata": {},
   "source": [
    "## Part 2: Analyse the data\n",
    "\n",
    "Find:"
   ]
  },
  {
   "cell_type": "markdown",
   "metadata": {},
   "source": [
    "(1) The number of nodes in the network"
   ]
  },
  {
   "cell_type": "code",
   "execution_count": 4,
   "metadata": {},
   "outputs": [
    {
     "data": {
      "text/plain": [
       "4039"
      ]
     },
     "execution_count": 4,
     "metadata": {},
     "output_type": "execute_result"
    }
   ],
   "source": [
    "nx.number_of_nodes(graph)"
   ]
  },
  {
   "cell_type": "markdown",
   "metadata": {},
   "source": [
    "(2) The number of edges in the network"
   ]
  },
  {
   "cell_type": "code",
   "execution_count": 5,
   "metadata": {},
   "outputs": [
    {
     "data": {
      "text/plain": [
       "88234"
      ]
     },
     "execution_count": 5,
     "metadata": {},
     "output_type": "execute_result"
    }
   ],
   "source": [
    "nx.number_of_edges(graph)"
   ]
  },
  {
   "cell_type": "markdown",
   "metadata": {},
   "source": [
    "(3) The average degree in the network"
   ]
  },
  {
   "cell_type": "code",
   "execution_count": 6,
   "metadata": {},
   "outputs": [
    {
     "data": {
      "text/plain": [
       "43.69101262688784"
      ]
     },
     "execution_count": 6,
     "metadata": {},
     "output_type": "execute_result"
    }
   ],
   "source": [
    "def average_degree(graph):\n",
    "    return sum(dict(nx.degree(graph)).values()) / nx.number_of_nodes(graph)\n",
    "\n",
    "average_degree(graph)"
   ]
  },
  {
   "cell_type": "markdown",
   "metadata": {},
   "source": [
    "(4) A visualisation of the network inside your notebook"
   ]
  },
  {
   "cell_type": "code",
   "execution_count": null,
   "metadata": {},
   "outputs": [],
   "source": [
    "nx.draw(graph)"
   ]
  },
  {
   "cell_type": "markdown",
   "metadata": {},
   "source": [
    "## Part 3: Find the most popular people"
   ]
  },
  {
   "cell_type": "markdown",
   "metadata": {},
   "source": [
    "(1) We're naturally interested in who has the most friends, so we want to extract top 10. That is, the 10 most connected people."
   ]
  },
  {
   "cell_type": "code",
   "execution_count": 17,
   "metadata": {},
   "outputs": [
    {
     "data": {
      "text/plain": [
       "[107, 1684, 1912, 3437, 0, 2543, 2347, 1888, 1800, 1663]"
      ]
     },
     "execution_count": 17,
     "metadata": {},
     "output_type": "execute_result"
    }
   ],
   "source": [
    "def top(graph, n = 10):\n",
    "    dictionary = dict(nx.degree(graph))\n",
    "    dict_sorted = sorted(dictionary.items(), key=lambda x: x[1], reverse=True)\n",
    "    return [node[0] for node in dict_sorted][:n]\n",
    "\n",
    "top_connected = top(graph, 10)\n",
    "top_connected"
   ]
  },
  {
   "cell_type": "markdown",
   "metadata": {},
   "source": [
    "(2) Finding top n using the PageRank algoritm."
   ]
  },
  {
   "cell_type": "code",
   "execution_count": 5,
   "metadata": {},
   "outputs": [
    {
     "name": "stderr",
     "output_type": "stream",
     "text": [
      "10it [00:08,  1.24it/s]\n"
     ]
    }
   ],
   "source": [
    "from tqdm import tqdm\n",
    "\n",
    "GLOBAL_RANKS = np.ones(nx.number_of_nodes(graph))\n",
    "\n",
    "def page_rank_it(node, n):\n",
    "    return GLOBAL_RANKS[node] / n\n",
    "\n",
    "def page_rank(graph, iterations = 10):\n",
    "    \n",
    "    d = 0.08\n",
    "    n = nx.number_of_nodes(graph)\n",
    "                        \n",
    "    for _ in tqdm(enumerate(range(iterations))):\n",
    "    \n",
    "        for node in nx.nodes(graph):\n",
    "            edges = graph.edges(node)\n",
    "            sum_ = 0\n",
    "            for edge in edges:\n",
    "                sum_ += page_rank_it(edge[1], n)\n",
    "            rank = (sum_ * d) + (1 - d) / n\n",
    "            GLOBAL_RANKS[node] = rank\n",
    "        \n",
    "page_rank(graph)"
   ]
  },
  {
   "cell_type": "code",
   "execution_count": 16,
   "metadata": {},
   "outputs": [
    {
     "data": {
      "text/plain": [
       "[107, 1684, 1912, 3437, 0, 2543, 2347, 1888, 1800, 1663]"
      ]
     },
     "execution_count": 16,
     "metadata": {},
     "output_type": "execute_result"
    }
   ],
   "source": [
    "def top_page_rank(n = 10):\n",
    "    return sorted(graph.nodes, key=lambda node: GLOBAL_RANKS[node], reverse=True)[:n]\n",
    "\n",
    "top_page_rank = top_page_rank(10)\n",
    "top_page_rank"
   ]
  },
  {
   "cell_type": "code",
   "execution_count": 18,
   "metadata": {},
   "outputs": [
    {
     "data": {
      "text/plain": [
       "True"
      ]
     },
     "execution_count": 18,
     "metadata": {},
     "output_type": "execute_result"
    }
   ],
   "source": [
    "top_connected == top_page_rank"
   ]
  }
 ],
 "metadata": {
  "kernelspec": {
   "display_name": "Python 3",
   "language": "python",
   "name": "python3"
  },
  "language_info": {
   "codemirror_mode": {
    "name": "ipython",
    "version": 3
   },
   "file_extension": ".py",
   "mimetype": "text/x-python",
   "name": "python",
   "nbconvert_exporter": "python",
   "pygments_lexer": "ipython3",
   "version": "3.7.1"
  }
 },
 "nbformat": 4,
 "nbformat_minor": 2
}
